{
 "cells": [
  {
   "cell_type": "code",
   "execution_count": 5,
   "metadata": {},
   "outputs": [
    {
     "data": {
      "text/plain": [
       "(888, 777)"
      ]
     },
     "execution_count": 5,
     "metadata": {},
     "output_type": "execute_result"
    }
   ],
   "source": [
    "#2數交換\n",
    "\n",
    "n = 777\n",
    "m = 888\n",
    "temporary = n\n",
    "n = m\n",
    "m = temporary\n",
    "\n",
    "n,m"
   ]
  },
  {
   "cell_type": "code",
   "execution_count": 4,
   "metadata": {},
   "outputs": [
    {
     "data": {
      "text/plain": [
       "(777, 888)"
      ]
     },
     "execution_count": 4,
     "metadata": {},
     "output_type": "execute_result"
    }
   ],
   "source": [
    "#2數交換\n",
    "#錯誤寫法(call by value)\n",
    "\n",
    "def swap_value(a, b):\n",
    "    temporary = a\n",
    "    a = b\n",
    "    b = temporary\n",
    "\n",
    "n = 777\n",
    "m = 888\n",
    "swap_value(n, m)\n",
    "\n",
    "n,m"
   ]
  },
  {
   "cell_type": "code",
   "execution_count": 6,
   "metadata": {},
   "outputs": [
    {
     "data": {
      "text/plain": [
       "(888, 777)"
      ]
     },
     "execution_count": 6,
     "metadata": {},
     "output_type": "execute_result"
    }
   ],
   "source": [
    "#2數交換\n",
    "#正確寫法(call by value)\n",
    "\n",
    "def swap_value(a, b):\n",
    "    temporary = a\n",
    "    a = b\n",
    "    b = temporary\n",
    "    return a,b\n",
    "\n",
    "n = 777\n",
    "m = 888\n",
    "n,m = swap_value(n, m)\n",
    "\n",
    "n,m"
   ]
  }
 ],
 "metadata": {
  "kernelspec": {
   "display_name": "venv",
   "language": "python",
   "name": "python3"
  },
  "language_info": {
   "codemirror_mode": {
    "name": "ipython",
    "version": 3
   },
   "file_extension": ".py",
   "mimetype": "text/x-python",
   "name": "python",
   "nbconvert_exporter": "python",
   "pygments_lexer": "ipython3",
   "version": "3.8.6"
  },
  "orig_nbformat": 4
 },
 "nbformat": 4,
 "nbformat_minor": 2
}
